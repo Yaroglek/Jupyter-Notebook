{
 "cells": [
  {
   "cell_type": "code",
   "execution_count": 1,
   "metadata": {},
   "outputs": [],
   "source": [
    "import numpy as np"
   ]
  },
  {
   "cell_type": "code",
   "execution_count": 2,
   "metadata": {},
   "outputs": [
    {
     "name": "stdout",
     "output_type": "stream",
     "text": [
      "4.33 ms ± 441 µs per loop (mean ± std. dev. of 7 runs, 100 loops each)\n"
     ]
    }
   ],
   "source": [
    "normal_list = range(10000)\n",
    "%timeit [i ** 2 for i in normal_list]"
   ]
  },
  {
   "cell_type": "code",
   "execution_count": 3,
   "metadata": {},
   "outputs": [
    {
     "name": "stdout",
     "output_type": "stream",
     "text": [
      "5.86 µs ± 645 ns per loop (mean ± std. dev. of 7 runs, 100000 loops each)\n"
     ]
    }
   ],
   "source": [
    "np_list = np.arange(10000)\n",
    "%timeit np_list ** 2"
   ]
  },
  {
   "cell_type": "code",
   "execution_count": 4,
   "metadata": {},
   "outputs": [
    {
     "name": "stdout",
     "output_type": "stream",
     "text": [
      "[3. 3. 3. 3. 3.]\n"
     ]
    },
    {
     "data": {
      "text/plain": [
       "([1, 1, 1, 1, 1, 1, 1, 1, 1, 1, 1, 1, 1, 1, 1], 15)"
      ]
     },
     "execution_count": 4,
     "metadata": {},
     "output_type": "execute_result"
    }
   ],
   "source": [
    "np_list = np.ones(5) * 3\n",
    "print(np_list)\n",
    "normal_list = [1, 1, 1, 1, 1] * 3\n",
    "normal_list, len(normal_list)"
   ]
  },
  {
   "cell_type": "code",
   "execution_count": 5,
   "metadata": {},
   "outputs": [
    {
     "data": {
      "text/plain": [
       "array([0., 0., 0., 0., 0., 0., 0., 0., 0., 0., 0., 0., 0., 0., 0., 0., 0.,\n",
       "       0., 0., 0., 0., 0., 0., 0., 0., 0., 0., 0., 0., 0., 0., 0., 0., 0.,\n",
       "       0., 0., 0., 0., 0., 0., 0., 0., 0., 0., 0., 0., 0., 0., 0., 0., 0.,\n",
       "       0., 0., 0., 0., 0., 0., 0., 0., 0., 0., 0., 0., 0., 0., 0., 0., 0.,\n",
       "       0., 0., 0., 0., 0., 0., 0., 0., 0., 0., 0., 0., 0., 0., 0., 0., 0.,\n",
       "       0., 0., 0., 0., 0., 0., 0., 0., 0., 0., 0., 0., 0., 0., 0.])"
      ]
     },
     "execution_count": 5,
     "metadata": {},
     "output_type": "execute_result"
    }
   ],
   "source": [
    "np.zeros(100)"
   ]
  },
  {
   "cell_type": "code",
   "execution_count": 6,
   "metadata": {},
   "outputs": [
    {
     "data": {
      "text/plain": [
       "array([[0., 0.],\n",
       "       [0., 0.],\n",
       "       [0., 0.]])"
      ]
     },
     "execution_count": 6,
     "metadata": {},
     "output_type": "execute_result"
    }
   ],
   "source": [
    "np.zeros((3, 2))"
   ]
  },
  {
   "cell_type": "code",
   "execution_count": 7,
   "metadata": {},
   "outputs": [
    {
     "data": {
      "text/plain": [
       "array([[1., 1.],\n",
       "       [1., 1.],\n",
       "       [1., 1.]])"
      ]
     },
     "execution_count": 7,
     "metadata": {},
     "output_type": "execute_result"
    }
   ],
   "source": [
    "np.ones((3, 2))"
   ]
  },
  {
   "cell_type": "code",
   "execution_count": 8,
   "metadata": {},
   "outputs": [
    {
     "data": {
      "text/plain": [
       "array([[[ 0.00000000e+000,  0.00000000e+000, -7.92254056e-126],\n",
       "        [ 6.90205347e-310,  6.90202593e-310,  4.59996085e-293],\n",
       "        [ 6.90202593e-310,  6.90202593e-310, -1.07201537e+136]],\n",
       "\n",
       "       [[ 6.90204356e-310,  4.68936459e-310,  1.91857203e-184],\n",
       "        [ 6.90204359e-310,  6.90204356e-310, -1.12659416e+045],\n",
       "        [ 6.90204356e-310,  6.90204356e-310, -2.13824724e+020]]])"
      ]
     },
     "execution_count": 8,
     "metadata": {},
     "output_type": "execute_result"
    }
   ],
   "source": [
    "np.empty((2, 3, 3))"
   ]
  },
  {
   "cell_type": "code",
   "execution_count": 9,
   "metadata": {},
   "outputs": [
    {
     "data": {
      "text/plain": [
       "array([1., 1., 1., 1., 1.])"
      ]
     },
     "execution_count": 9,
     "metadata": {},
     "output_type": "execute_result"
    }
   ],
   "source": [
    "np.ones_like(np_list)"
   ]
  },
  {
   "cell_type": "code",
   "execution_count": 10,
   "metadata": {},
   "outputs": [
    {
     "data": {
      "text/plain": [
       "array([0., 0., 0., 0., 0.])"
      ]
     },
     "execution_count": 10,
     "metadata": {},
     "output_type": "execute_result"
    }
   ],
   "source": [
    "np.zeros_like(np_list)"
   ]
  },
  {
   "cell_type": "code",
   "execution_count": 11,
   "metadata": {},
   "outputs": [
    {
     "data": {
      "text/plain": [
       "array([[1., 0., 0.],\n",
       "       [0., 1., 0.],\n",
       "       [0., 0., 1.]])"
      ]
     },
     "execution_count": 11,
     "metadata": {},
     "output_type": "execute_result"
    }
   ],
   "source": [
    "np.eye(3)"
   ]
  },
  {
   "cell_type": "code",
   "execution_count": 12,
   "metadata": {},
   "outputs": [
    {
     "data": {
      "text/plain": [
       "array([[1, 2, 3, 4],\n",
       "       [5, 6, 7, 8]])"
      ]
     },
     "execution_count": 12,
     "metadata": {},
     "output_type": "execute_result"
    }
   ],
   "source": [
    "data = [[1, 2, 3, 4], [5, 6, 7, 8]]\n",
    "arr_np = np.array(data)\n",
    "arr_np"
   ]
  },
  {
   "cell_type": "code",
   "execution_count": 13,
   "metadata": {},
   "outputs": [
    {
     "data": {
      "text/plain": [
       "array([0.        , 0.11111111, 0.22222222, 0.33333333, 0.44444444,\n",
       "       0.55555556, 0.66666667, 0.77777778, 0.88888889, 1.        ])"
      ]
     },
     "execution_count": 13,
     "metadata": {},
     "output_type": "execute_result"
    }
   ],
   "source": [
    "np.linspace(0, 1, 10)"
   ]
  },
  {
   "cell_type": "code",
   "execution_count": 14,
   "metadata": {},
   "outputs": [
    {
     "name": "stdout",
     "output_type": "stream",
     "text": [
      "(200, 504)\n",
      "[[-0.6645704  -0.76971219 -0.63549797 -0.46085432 -0.6337408 ]]\n"
     ]
    }
   ],
   "source": [
    "stock_cnt = 200\n",
    "view_days = 504\n",
    "stock_day_change = np.random.standard_normal((stock_cnt, view_days))\n",
    "print(stock_day_change.shape)\n",
    "print(stock_day_change[0:1, :5])"
   ]
  },
  {
   "cell_type": "code",
   "execution_count": 15,
   "metadata": {},
   "outputs": [
    {
     "data": {
      "text/plain": [
       "array([[-0.6645704 , -0.76971219, -0.63549797, -0.46085432, -0.6337408 ],\n",
       "       [ 0.8446719 ,  0.10434189, -0.46821772,  0.45090225,  0.92833083]])"
      ]
     },
     "execution_count": 15,
     "metadata": {},
     "output_type": "execute_result"
    }
   ],
   "source": [
    "stock_day_change[0:2, 0:5]"
   ]
  },
  {
   "cell_type": "code",
   "execution_count": 16,
   "metadata": {},
   "outputs": [
    {
     "data": {
      "text/plain": [
       "array([[-1.18511352,  0.89463459,  0.02057829, -2.12400619,  0.48315302],\n",
       "       [-0.00588087, -0.32270883, -0.10416787,  0.69085638, -2.03204075]])"
      ]
     },
     "execution_count": 16,
     "metadata": {},
     "output_type": "execute_result"
    }
   ],
   "source": [
    "stock_day_change[-2:, -5:]"
   ]
  },
  {
   "cell_type": "code",
   "execution_count": 17,
   "metadata": {},
   "outputs": [
    {
     "data": {
      "text/plain": [
       "(array([[-1.18511352,  0.89463459,  0.02057829, -2.12400619,  0.48315302],\n",
       "        [-0.00588087, -0.32270883, -0.10416787,  0.69085638, -2.03204075]]),\n",
       " array([[-0.6645704 , -0.76971219, -0.63549797, -0.46085432, -0.6337408 ],\n",
       "        [ 0.8446719 ,  0.10434189, -0.46821772,  0.45090225,  0.92833083]]))"
      ]
     },
     "execution_count": 17,
     "metadata": {},
     "output_type": "execute_result"
    }
   ],
   "source": [
    "tmp = stock_day_change[0:2, 0:5].copy()\n",
    "stock_day_change[0:2, 0:5] = stock_day_change[-2:, -5:]\n",
    "stock_day_change[-2:, -5:] = tmp\n",
    "stock_day_change[0:2, 0:5], stock_day_change[-2:, -5:]"
   ]
  },
  {
   "cell_type": "code",
   "execution_count": 18,
   "metadata": {},
   "outputs": [
    {
     "name": "stdout",
     "output_type": "stream",
     "text": [
      "[[-1.18511352  0.89463459  0.02057829 -2.12400619  0.48315302]\n",
      " [-0.00588087 -0.32270883 -0.10416787  0.69085638 -2.03204075]]\n"
     ]
    },
    {
     "data": {
      "text/plain": [
       "array([[-1,  0,  0, -2,  0],\n",
       "       [ 0,  0,  0,  0, -2]])"
      ]
     },
     "execution_count": 18,
     "metadata": {},
     "output_type": "execute_result"
    }
   ],
   "source": [
    "print(stock_day_change[0:2, 0:5])\n",
    "stock_day_change[0:2, 0:5].astype(int)"
   ]
  },
  {
   "cell_type": "code",
   "execution_count": 19,
   "metadata": {},
   "outputs": [
    {
     "data": {
      "text/plain": [
       "array([[-1.19,  0.89,  0.02, -2.12,  0.48],\n",
       "       [-0.01, -0.32, -0.1 ,  0.69, -2.03]])"
      ]
     },
     "execution_count": 19,
     "metadata": {},
     "output_type": "execute_result"
    }
   ],
   "source": [
    "np.around(stock_day_change[0:2, 0:5], 2)"
   ]
  },
  {
   "cell_type": "code",
   "execution_count": 20,
   "metadata": {},
   "outputs": [
    {
     "data": {
      "text/plain": [
       "array([[        nan,  0.89463459,  0.02057829, -2.12400619,  0.48315302],\n",
       "       [-0.00588087, -0.32270883, -0.10416787,  0.69085638, -2.03204075]])"
      ]
     },
     "execution_count": 20,
     "metadata": {},
     "output_type": "execute_result"
    }
   ],
   "source": [
    "tmp_test = stock_day_change[0:2, 0:5].copy()\n",
    "tmp_test[0][0] = np.nan\n",
    "tmp_test"
   ]
  },
  {
   "cell_type": "code",
   "execution_count": 21,
   "metadata": {},
   "outputs": [
    {
     "data": {
      "text/plain": [
       "array([[ 0.        ,  0.89463459,  0.02057829, -2.12400619,  0.48315302],\n",
       "       [-0.00588087, -0.32270883, -0.10416787,  0.69085638, -2.03204075]])"
      ]
     },
     "execution_count": 21,
     "metadata": {},
     "output_type": "execute_result"
    }
   ],
   "source": [
    "tmp_test = np.nan_to_num(tmp_test)\n",
    "tmp_test"
   ]
  },
  {
   "cell_type": "code",
   "execution_count": 22,
   "metadata": {},
   "outputs": [
    {
     "name": "stdout",
     "output_type": "stream",
     "text": [
      "[[False  True False False False]\n",
      " [False False False  True False]]\n"
     ]
    }
   ],
   "source": [
    "mask = stock_day_change[0:2, 0:5] > 0.5\n",
    "print(mask)"
   ]
  },
  {
   "cell_type": "code",
   "execution_count": 23,
   "metadata": {},
   "outputs": [
    {
     "data": {
      "text/plain": [
       "array([0.89463459, 0.69085638])"
      ]
     },
     "execution_count": 23,
     "metadata": {},
     "output_type": "execute_result"
    }
   ],
   "source": [
    "tmp_test= stock_day_change[0:2, 0:5].copy()\n",
    "tmp_test[mask]"
   ]
  },
  {
   "cell_type": "code",
   "execution_count": 24,
   "metadata": {},
   "outputs": [
    {
     "data": {
      "text/plain": [
       "array([[-1.18511352,  1.        ,  0.02057829, -2.12400619,  0.48315302],\n",
       "       [-0.00588087, -0.32270883, -0.10416787,  1.        , -2.03204075]])"
      ]
     },
     "execution_count": 24,
     "metadata": {},
     "output_type": "execute_result"
    }
   ],
   "source": [
    "tmp_test[tmp_test > 0.5] = 1\n",
    "tmp_test"
   ]
  },
  {
   "cell_type": "code",
   "execution_count": 25,
   "metadata": {},
   "outputs": [
    {
     "name": "stdout",
     "output_type": "stream",
     "text": [
      "[[-0.6645704  -0.76971219 -0.63549797 -0.46085432 -0.6337408 ]\n",
      " [ 0.8446719   0.10434189 -0.46821772  0.45090225  0.92833083]]\n"
     ]
    },
    {
     "data": {
      "text/plain": [
       "array([], dtype=float64)"
      ]
     },
     "execution_count": 25,
     "metadata": {},
     "output_type": "execute_result"
    }
   ],
   "source": [
    "tmp_test = stock_day_change[-2:, -5:]\n",
    "print(tmp_test)\n",
    "tmp_test[(tmp_test > 1) | (tmp_test < -1)]"
   ]
  },
  {
   "cell_type": "code",
   "execution_count": 26,
   "metadata": {},
   "outputs": [
    {
     "data": {
      "text/plain": [
       "False"
      ]
     },
     "execution_count": 26,
     "metadata": {},
     "output_type": "execute_result"
    }
   ],
   "source": [
    "np.all(stock_day_change[0:2, 0:5] > 0)"
   ]
  },
  {
   "cell_type": "code",
   "execution_count": 27,
   "metadata": {},
   "outputs": [
    {
     "data": {
      "text/plain": [
       "True"
      ]
     },
     "execution_count": 27,
     "metadata": {},
     "output_type": "execute_result"
    }
   ],
   "source": [
    "np.any(stock_day_change[0:2, 0:5] > 0)"
   ]
  },
  {
   "cell_type": "code",
   "execution_count": 28,
   "metadata": {},
   "outputs": [
    {
     "data": {
      "text/plain": [
       "array([[-0.6645704 ,  0.89463459,  0.02057829, -0.46085432,  0.48315302],\n",
       "       [ 0.8446719 ,  0.10434189, -0.10416787,  0.69085638,  0.92833083]])"
      ]
     },
     "execution_count": 28,
     "metadata": {},
     "output_type": "execute_result"
    }
   ],
   "source": [
    "np.maximum(stock_day_change[0:2, 0:5], stock_day_change[-2:, -5:])"
   ]
  },
  {
   "cell_type": "code",
   "execution_count": 29,
   "metadata": {},
   "outputs": [
    {
     "data": {
      "text/plain": [
       "array([[-1.18511352, -0.76971219, -0.63549797, -2.12400619, -0.6337408 ],\n",
       "       [-0.00588087, -0.32270883, -0.46821772,  0.45090225, -2.03204075]])"
      ]
     },
     "execution_count": 29,
     "metadata": {},
     "output_type": "execute_result"
    }
   ],
   "source": [
    "np.minimum(stock_day_change[0:2, 0:5], stock_day_change[-2:, -5:])"
   ]
  },
  {
   "cell_type": "code",
   "execution_count": 30,
   "metadata": {},
   "outputs": [
    {
     "name": "stdout",
     "output_type": "stream",
     "text": [
      "[[-1  0  0 -2  0]\n",
      " [ 0  0  0  0 -2]]\n"
     ]
    },
    {
     "data": {
      "text/plain": [
       "array([-2, -1,  0])"
      ]
     },
     "execution_count": 30,
     "metadata": {},
     "output_type": "execute_result"
    }
   ],
   "source": [
    "change_int = stock_day_change[0:2, 0:5].astype(int)\n",
    "print(change_int)\n",
    "np.unique(change_int)"
   ]
  },
  {
   "cell_type": "code",
   "execution_count": 31,
   "metadata": {},
   "outputs": [
    {
     "name": "stdout",
     "output_type": "stream",
     "text": [
      "[[-1.18511352  0.89463459  0.02057829 -2.12400619  0.48315302]\n",
      " [-0.00588087 -0.32270883 -0.10416787  0.69085638 -2.03204075]]\n"
     ]
    },
    {
     "data": {
      "text/plain": [
       "array([[ 2.07974811, -0.8740563 , -2.14458448,  2.60715921],\n",
       "       [-0.31682797,  0.21854096,  0.79502425, -2.72289713]])"
      ]
     },
     "execution_count": 31,
     "metadata": {},
     "output_type": "execute_result"
    }
   ],
   "source": [
    "print(stock_day_change[0:2, 0:5])\n",
    "np.diff(stock_day_change[0:2, 0:5])"
   ]
  },
  {
   "cell_type": "code",
   "execution_count": 32,
   "metadata": {},
   "outputs": [
    {
     "data": {
      "text/plain": [
       "array([[ 1.17923265, -1.21734342, -0.12474616,  2.81486257, -2.51519377]])"
      ]
     },
     "execution_count": 32,
     "metadata": {},
     "output_type": "execute_result"
    }
   ],
   "source": [
    "np.diff(stock_day_change[0:2, 0:5], axis = 0)"
   ]
  },
  {
   "cell_type": "code",
   "execution_count": 33,
   "metadata": {},
   "outputs": [
    {
     "name": "stdout",
     "output_type": "stream",
     "text": [
      "[[0 0 0 0 0]\n",
      " [1 0 0 0 1]]\n"
     ]
    }
   ],
   "source": [
    "tmp_test = stock_day_change[-2:, -5:]\n",
    "print(np.where(tmp_test > 0.5, 1, 0))"
   ]
  },
  {
   "cell_type": "code",
   "execution_count": 34,
   "metadata": {},
   "outputs": [
    {
     "name": "stdout",
     "output_type": "stream",
     "text": [
      "[[-0.6645704  -0.76971219 -0.63549797 -0.46085432 -0.6337408 ]\n",
      " [ 1.          0.10434189 -0.46821772  0.45090225  1.        ]]\n"
     ]
    }
   ],
   "source": [
    "print(np.where(tmp_test > 0.5, 1, tmp_test))"
   ]
  },
  {
   "cell_type": "code",
   "execution_count": 35,
   "metadata": {},
   "outputs": [
    {
     "data": {
      "text/plain": [
       "array([[0, 0, 0, 0, 0],\n",
       "       [1, 0, 0, 0, 1]])"
      ]
     },
     "execution_count": 35,
     "metadata": {},
     "output_type": "execute_result"
    }
   ],
   "source": [
    "np.where(np.logical_and(tmp_test > 0.5, tmp_test < 1), 1, 0)"
   ]
  },
  {
   "cell_type": "code",
   "execution_count": 36,
   "metadata": {},
   "outputs": [
    {
     "data": {
      "text/plain": [
       "array([[1, 1, 1, 0, 1],\n",
       "       [1, 0, 0, 0, 1]])"
      ]
     },
     "execution_count": 36,
     "metadata": {},
     "output_type": "execute_result"
    }
   ],
   "source": [
    "np.where(np.logical_or(tmp_test > 0.5, tmp_test < -0.5), 1, 0)"
   ]
  },
  {
   "cell_type": "code",
   "execution_count": 37,
   "metadata": {},
   "outputs": [],
   "source": [
    "np.save('./gen/stock_day_change', stock_day_change)"
   ]
  },
  {
   "cell_type": "code",
   "execution_count": 38,
   "metadata": {},
   "outputs": [
    {
     "data": {
      "text/plain": [
       "(200, 504)"
      ]
     },
     "execution_count": 38,
     "metadata": {},
     "output_type": "execute_result"
    }
   ],
   "source": [
    "stock_day_change = np.load('./gen/stock_day_change.npy')\n",
    "stock_day_change.shape"
   ]
  },
  {
   "cell_type": "code",
   "execution_count": 39,
   "metadata": {},
   "outputs": [
    {
     "data": {
      "text/plain": [
       "array([[-1.18511352,  0.89463459,  0.02057829, -2.12400619],\n",
       "       [-0.00588087, -0.32270883, -0.10416787,  0.69085638],\n",
       "       [ 0.7537424 ,  0.531972  ,  0.41974349, -1.45544821],\n",
       "       [ 1.45018852, -0.6447287 , -1.93821972,  0.8927251 ]])"
      ]
     },
     "execution_count": 39,
     "metadata": {},
     "output_type": "execute_result"
    }
   ],
   "source": [
    "stock_day_change_four = stock_day_change[:4, :4]\n",
    "stock_day_change_four"
   ]
  },
  {
   "cell_type": "code",
   "execution_count": 40,
   "metadata": {},
   "outputs": [
    {
     "name": "stdout",
     "output_type": "stream",
     "text": [
      "最大涨幅 [0.89463459 0.69085638 0.7537424  1.45018852]\n",
      "最大跌幅 [-2.12400619 -0.32270883 -1.45544821 -1.93821972]\n",
      "振幅幅度 [1.14934692 0.37935976 0.88459167 1.32834215]\n",
      "平均涨跌 [-0.59847671  0.0645247   0.06250242 -0.0600087 ]\n"
     ]
    }
   ],
   "source": [
    "#axis = 0 means 'yoko', axis = 1 means 'tate', default axis = 1\n",
    "print('最大涨幅 {}'.format(np.max(stock_day_change_four, axis = 1)))\n",
    "print('最大跌幅 {}'.format(np.min(stock_day_change_four, axis = 1)))\n",
    "print('振幅幅度 {}'.format(np.std(stock_day_change_four, axis = 1)))\n",
    "print('平均涨跌 {}'.format(np.mean(stock_day_change_four, axis = 1)))"
   ]
  },
  {
   "cell_type": "code",
   "execution_count": 41,
   "metadata": {},
   "outputs": [
    {
     "name": "stdout",
     "output_type": "stream",
     "text": [
      "最大涨幅 [1.45018852 0.89463459 0.41974349 0.8927251 ]\n",
      "最大跌幅 [-1.18511352 -0.6447287  -1.93821972 -2.12400619]\n",
      "振幅幅度 [0.97713777 0.62258981 0.90863923 1.31416278]\n",
      "平均涨跌 [ 0.25323414  0.11479227 -0.40051645 -0.49896823]\n"
     ]
    }
   ],
   "source": [
    "print('最大涨幅 {}'.format(np.max(stock_day_change_four, axis = 0)))\n",
    "print('最大跌幅 {}'.format(np.min(stock_day_change_four, axis = 0)))\n",
    "print('振幅幅度 {}'.format(np.std(stock_day_change_four, axis = 0)))\n",
    "print('平均涨跌 {}'.format(np.mean(stock_day_change_four, axis = 0)))"
   ]
  },
  {
   "cell_type": "code",
   "execution_count": 42,
   "metadata": {},
   "outputs": [
    {
     "name": "stdout",
     "output_type": "stream",
     "text": [
      "最大涨幅股票[3 0 2 3]\n",
      "最大跌幅股票[0 3 3 0]\n"
     ]
    }
   ],
   "source": [
    "print('最大涨幅股票{}'.format(np.argmax(stock_day_change_four, axis = 0)))\n",
    "print('最大跌幅股票{}'.format(np.argmin(stock_day_change_four, axis = 0)))"
   ]
  },
  {
   "cell_type": "code",
   "execution_count": 43,
   "metadata": {},
   "outputs": [],
   "source": [
    "a_investor = np.random.normal(loc = 100, scale = 50, size = (100, 1))\n",
    "b_investor = np.random.normal(loc = 100, scale = 20, size = (100, 1))"
   ]
  },
  {
   "cell_type": "code",
   "execution_count": 44,
   "metadata": {},
   "outputs": [
    {
     "name": "stdout",
     "output_type": "stream",
     "text": [
      "a交易者期望98.13214437226613, 标准差49.76349879578443, 方差2476.4058123980385\n",
      "b交易者期望99.39628611468466, 标准差20.777867587673157, 方差431.7197814908788\n"
     ]
    }
   ],
   "source": [
    "print('a交易者期望{}, 标准差{}, 方差{}'.format(a_investor.mean(), a_investor.std(), a_investor.var()))\n",
    "print('b交易者期望{}, 标准差{}, 方差{}'.format(b_investor.mean(), b_investor.std(), b_investor.var()))"
   ]
  },
  {
   "cell_type": "code",
   "execution_count": 45,
   "metadata": {},
   "outputs": [
    {
     "data": {
      "text/plain": [
       "<matplotlib.lines.Line2D at 0x7f0e089bd9e8>"
      ]
     },
     "execution_count": 45,
     "metadata": {},
     "output_type": "execute_result"
    }
   ],
   "source": [
    "import matplotlib.pyplot as plt\n",
    "a_mean = a_investor.mean()\n",
    "a_std = a_investor.std()\n",
    "plt.plot(a_investor)\n",
    "plt.axhline(a_mean + a_std, color = 'r')\n",
    "plt.axhline(a_mean, color = 'y')\n",
    "plt.axhline(a_mean - a_std, color = 'g')"
   ]
  },
  {
   "cell_type": "code",
   "execution_count": 46,
   "metadata": {},
   "outputs": [
    {
     "data": {
      "text/plain": [
       "<matplotlib.lines.Line2D at 0x7f0e087d2ba8>"
      ]
     },
     "execution_count": 46,
     "metadata": {},
     "output_type": "execute_result"
    },
    {
     "data": {
      "image/png": "[encoded data removed]",
      "text/plain": [
       "<Figure size 432x288 with 1 Axes>"
      ]
     },
     "metadata": {
      "needs_background": "light"
     },
     "output_type": "display_data"
    }
   ],
   "source": [
    "b_mean = b_investor.mean()\n",
    "b_std = b_investor.std()\n",
    "plt.plot(b_investor)\n",
    "plt.axhline(b_mean + b_std, color = 'r')\n",
    "plt.axhline(b_mean, color = 'y')\n",
    "plt.axhline(b_mean - b_std, color = 'g')"
   ]
  },
  {
   "cell_type": "code",
   "execution_count": 47,
   "metadata": {},
   "outputs": [],
   "source": [
    "stock_day_change = np.random.standard_normal((stock_cnt, view_days))"
   ]
  },
  {
   "cell_type": "code",
   "execution_count": 48,
   "metadata": {},
   "outputs": [
    {
     "name": "stdout",
     "output_type": "stream",
     "text": [
      "股票0 mean均值期望: -0.049\n",
      "股票0 std振幅标准差: 1.034\n"
     ]
    },
    {
     "data": {
      "text/plain": [
       "[<matplotlib.lines.Line2D at 0x7f0e07230780>]"
      ]
     },
     "execution_count": 48,
     "metadata": {},
     "output_type": "execute_result"
    },
    {
     "data": {
      "image/png": "[encoded data removed]",
      "text/plain": [
       "<Figure size 432x288 with 1 Axes>"
      ]
     },
     "metadata": {
      "needs_background": "light"
     },
     "output_type": "display_data"
    }
   ],
   "source": [
    "import matplotlib.pyplot as plt\n",
    "import scipy.stats as scs\n",
    "stock_mean = stock_day_change[0].mean()\n",
    "stock_std = stock_day_change[0].std()\n",
    "print('股票0 mean均值期望: {:.3f}'.format(stock_mean))\n",
    "print('股票0 std振幅标准差: {:.3f}'.format(stock_std))\n",
    "plt.hist(stock_day_change[0], bins = 50, density = True)\n",
    "fit_linspace = np.linspace(stock_day_change[0].min(), stock_day_change[0].max())\n",
    "pdf = scs.norm(stock_mean, stock_std).pdf(fit_linspace)\n",
    "plt.plot(fit_linspace, pdf, lw = 2, c = 'r')"
   ]
  },
  {
   "cell_type": "code",
   "execution_count": 49,
   "metadata": {},
   "outputs": [
    {
     "data": {
      "text/plain": [
       "array([0.00299348, 0.00427419, 0.00602067, 0.0083666 , 0.01147009,\n",
       "       0.01551305, 0.02069859, 0.02724567, 0.03538078, 0.04532632,\n",
       "       0.05728575, 0.07142592, 0.08785737, 0.10661386, 0.1276328 ,\n",
       "       0.15073844, 0.17563007, 0.20187701, 0.22892223, 0.25609564,\n",
       "       0.28263733, 0.30773011, 0.33053967, 0.3502598 , 0.36615935,\n",
       "       0.37762704, 0.38421044, 0.38564558, 0.38187451, 0.3730492 ,\n",
       "       0.35952135, 0.34181913, 0.32061303, 0.29667374, 0.27082587,\n",
       "       0.24390142, 0.21669636, 0.1899337 , 0.16423495, 0.14010132,\n",
       "       0.11790495, 0.09788923, 0.08017721, 0.06478584, 0.0516443 ,\n",
       "       0.04061419, 0.03150985, 0.02411726, 0.01821053, 0.01356534])"
      ]
     },
     "execution_count": 49,
     "metadata": {},
     "output_type": "execute_result"
    }
   ],
   "source": [
    "pdf"
   ]
  },
  {
   "cell_type": "code",
   "execution_count": 50,
   "metadata": {},
   "outputs": [
    {
     "name": "stdout",
     "output_type": "stream",
     "text": [
      "[-59.89158887 -56.0201213  -49.81382232]\n"
     ]
    },
    {
     "data": {
      "text/plain": [
       "array([96,  9, 36])"
      ]
     },
     "execution_count": 50,
     "metadata": {},
     "output_type": "execute_result"
    }
   ],
   "source": [
    "keep_days = 50\n",
    "stock_day_change_test = stock_day_change[:stock_cnt, 0:view_days - keep_days]\n",
    "print(np.sort(np.sum(stock_day_change_test, axis = 1))[:3])\n",
    "stock_lower_array = np.argsort(np.sum(stock_day_change_test, axis = 1))[:3]\n",
    "stock_lower_array"
   ]
  },
  {
   "cell_type": "code",
   "execution_count": 51,
   "metadata": {},
   "outputs": [],
   "source": [
    "def show_buy_lower(stock_ind):\n",
    "    _, axs = plt.subplots(nrows = 1, ncols = 2, figsize = (16, 5))\n",
    "    axs[0].plot(np.arange(0, view_days - keep_days), stock_day_change_test[stock_ind].cumsum())\n",
    "    cs_buy = stock_day_change[stock_ind][view_days - keep_days:view_days].cumsum()\n",
    "    axs[1].plot(np.arange(view_days - keep_days, view_days), cs_buy)\n",
    "    return cs_buy[-1]"
   ]
  },
  {
   "cell_type": "code",
   "execution_count": 52,
   "metadata": {
    "scrolled": false
   },
   "outputs": [
    {
     "name": "stdout",
     "output_type": "stream",
     "text": [
      "买入第96只股票, 从第454个交易日开始持有盈亏: -3.08%\n",
      "买入第9只股票, 从第454个交易日开始持有盈亏: 6.79%\n",
      "买入第36只股票, 从第454个交易日开始持有盈亏: 5.39%\n"
     ]
    },
    {
     "data": {
      "image/png": "[encoded data removed]",
      "text/plain": [
       "<Figure size 1152x360 with 2 Axes>"
      ]
     },
     "metadata": {
      "needs_background": "light"
     },
     "output_type": "display_data"
    },
    {
     "data": {
      "image/png": "[encoded data removed]",
      "text/plain": [
       "<Figure size 1152x360 with 2 Axes>"
      ]
     },
     "metadata": {
      "needs_background": "light"
     },
     "output_type": "display_data"
    },
    {
     "data": {
      "image/png": "[encoded data removed]",
      "text/plain": [
       "<Figure size 1152x360 with 2 Axes>"
      ]
     },
     "metadata": {
      "needs_background": "light"
     },
     "output_type": "display_data"
    }
   ],
   "source": [
    "for stock_ind in stock_lower_array:\n",
    "    print('买入第{}只股票, 从第454个交易日开始持有盈亏: {:.2f}%'.format(stock_ind, show_buy_lower(stock_ind)))"
   ]
  },
  {
   "cell_type": "code",
   "execution_count": 53,
   "metadata": {},
   "outputs": [],
   "source": [
    "gamblers = 100\n",
    "def casino(win_rate, win_once = 1, loss_once = 1, commission = 0.01):\n",
    "    my_money = 10000\n",
    "    play_cnt = 100000\n",
    "    commission = commission\n",
    "    for _ in np.arange(0, play_cnt):\n",
    "        w = np.random.binomial(1, win_rate)\n",
    "        if w:\n",
    "            my_money += win_once\n",
    "        else:\n",
    "            my_money -= loss_once\n",
    "        my_money -= commission\n",
    "        if my_money <= 0:\n",
    "            break\n",
    "    return my_money"
   ]
  },
  {
   "cell_type": "code",
   "execution_count": 54,
   "metadata": {},
   "outputs": [
    {
     "name": "stdout",
     "output_type": "stream",
     "text": [
      "CPU times: user 40.5 s, sys: 103 ms, total: 40.6 s\n",
      "Wall time: 40.7 s\n"
     ]
    }
   ],
   "source": [
    "%time heaven_moneys = [casino(0.5, commission = 0) for _ in np.arange(0, gamblers)]"
   ]
  },
  {
   "cell_type": "code",
   "execution_count": 55,
   "metadata": {},
   "outputs": [
    {
     "name": "stdout",
     "output_type": "stream",
     "text": [
      "CPU times: user 19.8 s, sys: 25.9 ms, total: 19.8 s\n",
      "Wall time: 19.8 s\n"
     ]
    }
   ],
   "source": [
    "%time cheat_moneys = [casino(0.4, commission = 0) for _ in np.arange(0, gamblers)]"
   ]
  },
  {
   "cell_type": "code",
   "execution_count": 56,
   "metadata": {},
   "outputs": [
    {
     "name": "stdout",
     "output_type": "stream",
     "text": [
      "CPU times: user 39.4 s, sys: 29.4 ms, total: 39.4 s\n",
      "Wall time: 39.5 s\n"
     ]
    }
   ],
   "source": [
    "%time commission_moneys = [casino(0.5, commission = 0.01) for _ in np.arange(0, gamblers)]"
   ]
  },
  {
   "cell_type": "code",
   "execution_count": 57,
   "metadata": {},
   "outputs": [
    {
     "data": {
      "image/png": "[encoded data removed]",
      "text/plain": [
       "<Figure size 432x288 with 1 Axes>"
      ]
     },
     "metadata": {
      "needs_background": "light"
     },
     "output_type": "display_data"
    }
   ],
   "source": [
    "_ = plt.hist(heaven_moneys, bins = 30)"
   ]
  },
  {
   "cell_type": "code",
   "execution_count": 61,
   "metadata": {},
   "outputs": [
    {
     "data": {
      "image/png": "[encoded data removed]",
      "text/plain": [
       "<Figure size 432x288 with 1 Axes>"
      ]
     },
     "metadata": {
      "needs_background": "light"
     },
     "output_type": "display_data"
    }
   ],
   "source": [
    "_ = plt.hist(cheat_moneys, bins = 30)"
   ]
  },
  {
   "cell_type": "code",
   "execution_count": 62,
   "metadata": {},
   "outputs": [
    {
     "data": {
      "image/png": "[encoded data removed]",
      "text/plain": [
       "<Figure size 432x288 with 1 Axes>"
      ]
     },
     "metadata": {
      "needs_background": "light"
     },
     "output_type": "display_data"
    }
   ],
   "source": [
    "_ = plt.hist(commission_moneys, bins = 30)"
   ]
  },
  {
   "cell_type": "code",
   "execution_count": 63,
   "metadata": {},
   "outputs": [
    {
     "name": "stdout",
     "output_type": "stream",
     "text": [
      "CPU times: user 38.7 s, sys: 6.73 ms, total: 38.7 s\n",
      "Wall time: 38.7 s\n"
     ]
    },
    {
     "data": {
      "image/png": "[encoded data removed]",
      "text/plain": [
       "<Figure size 432x288 with 1 Axes>"
      ]
     },
     "metadata": {
      "needs_background": "light"
     },
     "output_type": "display_data"
    }
   ],
   "source": [
    "%time moneys = [casino(0.5, commission = 0.01, win_once = 1.02, loss_once = 0.98) for _ in np.arange(0, gamblers)]\n",
    "_ = plt.hist(moneys, bins = 30)"
   ]
  },
  {
   "cell_type": "code",
   "execution_count": 65,
   "metadata": {},
   "outputs": [
    {
     "name": "stdout",
     "output_type": "stream",
     "text": [
      "CPU times: user 39 s, sys: 11.7 ms, total: 39 s\n",
      "Wall time: 39.1 s\n"
     ]
    },
    {
     "data": {
      "image/png": "[encoded data removed]",
      "text/plain": [
       "<Figure size 432x288 with 1 Axes>"
      ]
     },
     "metadata": {
      "needs_background": "light"
     },
     "output_type": "display_data"
    }
   ],
   "source": [
    "%time moneys = [casino(0.49, commission = 0.01, win_once = 1.02, loss_once = 0.98) for _ in np.arange(0, gamblers)]\n",
    "_ = plt.hist(moneys, bins = 30)"
   ]
  }
 ],
 "metadata": {
  "kernelspec": {
   "display_name": "Python 3",
   "language": "python",
   "name": "python3"
  },
  "language_info": {
   "codemirror_mode": {
    "name": "ipython",
    "version": 3
   },
   "file_extension": ".py",
   "mimetype": "text/x-python",
   "name": "python",
   "nbconvert_exporter": "python",
   "pygments_lexer": "ipython3",
   "version": "3.7.0"
  }
 },
 "nbformat": 4,
 "nbformat_minor": 2
}
